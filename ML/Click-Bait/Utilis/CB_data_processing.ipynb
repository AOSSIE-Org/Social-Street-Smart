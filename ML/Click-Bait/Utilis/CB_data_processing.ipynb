{
 "cells": [
  {
   "cell_type": "code",
   "execution_count": 1,
   "metadata": {},
   "outputs": [],
   "source": [
    "import json\n",
    "import pandas as pd, numpy as np\n",
    "from tqdm import tqdm\n",
    "import string"
   ]
  },
  {
   "cell_type": "code",
   "execution_count": 6,
   "metadata": {},
   "outputs": [],
   "source": [
    "buzzfeed_CB= json.loads((open(\"../Data/Raw/buzzfeed.json\")).read())"
   ]
  },
  {
   "cell_type": "code",
   "execution_count": 7,
   "metadata": {},
   "outputs": [
    {
     "data": {
      "text/plain": [
       "{'article_title': '23 Life Lessons Cosmo Kramer Taught Us',\n",
       " 'clickbait': 1,\n",
       " 'response_count': 280,\n",
       " 'article_url': '/javiermoreno/ife-lessons-you-learned-from-cosmo-kramer',\n",
       " 'author': {'url': '/javiermoreno', 'name': 'Javier Moreno'}}"
      ]
     },
     "execution_count": 7,
     "metadata": {},
     "output_type": "execute_result"
    }
   ],
   "source": [
    "buzzfeed_CB[0]"
   ]
  },
  {
   "cell_type": "code",
   "execution_count": 9,
   "metadata": {},
   "outputs": [],
   "source": [
    "clickhole_CB = json.loads((open(r\"../Data/Raw/clickhole.json\")).read())"
   ]
  },
  {
   "cell_type": "code",
   "execution_count": 10,
   "metadata": {},
   "outputs": [
    {
     "data": {
      "text/plain": [
       "{'article_title': 'And What A Year It’s Been: Looking Back On The Best, Worst, And Weirdest Stories That Made 2014 An Incredible Year For The Internet',\n",
       " 'clickbait': 1,\n",
       " 'article_url': '/article/and-what-year-its-been-looking-back-best-worst-and-1605'}"
      ]
     },
     "execution_count": 10,
     "metadata": {},
     "output_type": "execute_result"
    }
   ],
   "source": [
    "clickhole_CB[0]"
   ]
  },
  {
   "cell_type": "code",
   "execution_count": 12,
   "metadata": {},
   "outputs": [],
   "source": [
    "dose_CB=json.loads((open(r\"../Data/Raw/dose.json\")).read())"
   ]
  },
  {
   "cell_type": "code",
   "execution_count": 13,
   "metadata": {},
   "outputs": [],
   "source": [
    "nyt_NCB = json.loads((open(r\"../Data/Raw/nytimes.json\")).read())"
   ]
  },
  {
   "cell_type": "code",
   "execution_count": 14,
   "metadata": {},
   "outputs": [
    {
     "data": {
      "text/plain": [
       "({'article_title': \" This Artist Takes Kids' Drawings...But You'll Never Guess Why\",\n",
       "  'clickbait': 1,\n",
       "  'article_url': 'http://www.dose.com/lists/16905/This-Artist-Takes-Kids-Drawings-But-You-ll-Never-Guess-Why'},\n",
       " {'article_title': \"Nation's Smaller Jails Struggle To Cope With Surge in Inmates\",\n",
       "  'clickbait': 0,\n",
       "  'topic_code': '12',\n",
       "  'article_subject': 'Jails overwhelmed with hardened criminals',\n",
       "  'date': '1-Jan-96',\n",
       "  'article_id': '41246'})"
      ]
     },
     "execution_count": 14,
     "metadata": {},
     "output_type": "execute_result"
    }
   ],
   "source": [
    "dose_CB[0],nyt_NCB[0]"
   ]
  },
  {
   "cell_type": "code",
   "execution_count": 16,
   "metadata": {},
   "outputs": [],
   "source": [
    "other_CB_fp= open(r\"../Data/Raw/clickbait.txt\",'r')"
   ]
  },
  {
   "cell_type": "code",
   "execution_count": 17,
   "metadata": {},
   "outputs": [],
   "source": [
    "other_CB= other_CB_fp.read().splitlines()"
   ]
  },
  {
   "cell_type": "code",
   "execution_count": 18,
   "metadata": {},
   "outputs": [
    {
     "data": {
      "text/plain": [
       "('10 Celebs Killin The Elf On The Shelf Game', 5637)"
      ]
     },
     "execution_count": 18,
     "metadata": {},
     "output_type": "execute_result"
    }
   ],
   "source": [
    "other_CB[0], len(other_CB)"
   ]
  },
  {
   "cell_type": "code",
   "execution_count": 20,
   "metadata": {},
   "outputs": [],
   "source": [
    "other_NCB_fp= open(r\"../Data/Raw/genuine.txt\",'r')"
   ]
  },
  {
   "cell_type": "code",
   "execution_count": 21,
   "metadata": {},
   "outputs": [],
   "source": [
    "other_NCB= other_NCB_fp.read().splitlines()"
   ]
  },
  {
   "cell_type": "code",
   "execution_count": 22,
   "metadata": {},
   "outputs": [
    {
     "data": {
      "text/plain": [
       "('A simmering resentment', 6080)"
      ]
     },
     "execution_count": 22,
     "metadata": {},
     "output_type": "execute_result"
    }
   ],
   "source": [
    "other_NCB[0],len(other_NCB)"
   ]
  },
  {
   "cell_type": "code",
   "execution_count": 26,
   "metadata": {},
   "outputs": [],
   "source": [
    "pre_mergedData= pd.read_csv(r\"../Data/final.csv\")"
   ]
  },
  {
   "cell_type": "code",
   "execution_count": 27,
   "metadata": {},
   "outputs": [],
   "source": [
    "pre_merged_titles= pre_mergedData['targetTitle'].tolist()\n",
    "pre_merged_labels= [1 if x>=0.5 else 0 for x in pre_mergedData['truthMean']]"
   ]
  },
  {
   "cell_type": "code",
   "execution_count": 28,
   "metadata": {},
   "outputs": [
    {
     "data": {
      "text/plain": [
       "('‘Inexcusable’ failures in UK’s response to modern slavery leaving victims destitute while abusers go free, report warns',\n",
       " 0,\n",
       " 41256)"
      ]
     },
     "execution_count": 28,
     "metadata": {},
     "output_type": "execute_result"
    }
   ],
   "source": [
    "pre_merged_titles[0],pre_merged_labels[0], len(pre_merged_labels)"
   ]
  },
  {
   "cell_type": "code",
   "execution_count": 29,
   "metadata": {},
   "outputs": [
    {
     "data": {
      "text/plain": [
       "59173"
      ]
     },
     "execution_count": 29,
     "metadata": {},
     "output_type": "execute_result"
    }
   ],
   "source": [
    "len(buzzfeed_CB)+len(clickhole_CB)+len(dose_CB)+len(nyt_NCB)+len(other_CB)+len(other_NCB)+len(pre_merged_labels)"
   ]
  },
  {
   "cell_type": "code",
   "execution_count": 30,
   "metadata": {},
   "outputs": [],
   "source": [
    "data= {'id':[], 'titles':[], 'clickbait':[]}"
   ]
  },
  {
   "cell_type": "code",
   "execution_count": 31,
   "metadata": {},
   "outputs": [],
   "source": [
    "t=1;"
   ]
  },
  {
   "cell_type": "code",
   "execution_count": 32,
   "metadata": {},
   "outputs": [],
   "source": [
    "#for buzzfeed click bait data\n",
    "for x in buzzfeed_CB:\n",
    "    data['id'].append(t)\n",
    "    t+=1\n",
    "    data['titles'].append(x['article_title'])\n",
    "    data['clickbait'].append(x['clickbait'])\n",
    "    "
   ]
  },
  {
   "cell_type": "code",
   "execution_count": 33,
   "metadata": {},
   "outputs": [],
   "source": [
    "#for clickHole click bait data\n",
    "for x in clickhole_CB:\n",
    "    data['id'].append(t)\n",
    "    t+=1\n",
    "    data['titles'].append(x['article_title'])\n",
    "    data['clickbait'].append(x['clickbait'])"
   ]
  },
  {
   "cell_type": "code",
   "execution_count": 34,
   "metadata": {},
   "outputs": [],
   "source": [
    "#for dose click bait dataset\n",
    "for x in dose_CB:\n",
    "    data['id'].append(t)\n",
    "    t+=1\n",
    "    data['titles'].append(x['article_title'])\n",
    "    data['clickbait'].append(x['clickbait'])"
   ]
  },
  {
   "cell_type": "code",
   "execution_count": 35,
   "metadata": {},
   "outputs": [],
   "source": [
    "#for New york times click bait data\n",
    "for x in nyt_NCB:\n",
    "    data['id'].append(t)\n",
    "    t+=1\n",
    "    data['titles'].append(x['article_title'])\n",
    "    data['clickbait'].append(x['clickbait'])"
   ]
  },
  {
   "cell_type": "code",
   "execution_count": 36,
   "metadata": {},
   "outputs": [],
   "source": [
    "# for click bait data source from other sites\n",
    "for x in other_CB:\n",
    "    data['id'].append(t)\n",
    "    t+=1\n",
    "    data['titles'].append(x)\n",
    "    data['clickbait'].append(1)"
   ]
  },
  {
   "cell_type": "code",
   "execution_count": 37,
   "metadata": {},
   "outputs": [],
   "source": [
    "# for non click bait data source from other sites\n",
    "for x in other_NCB:\n",
    "    data['id'].append(t)\n",
    "    t+=1\n",
    "    data['titles'].append(x)\n",
    "    data['clickbait'].append(0)"
   ]
  },
  {
   "cell_type": "code",
   "execution_count": 38,
   "metadata": {},
   "outputs": [],
   "source": [
    "for i in range(len(pre_merged_labels)):\n",
    "    data['id'].append(t)\n",
    "    t+=1\n",
    "    data['titles'].append(pre_merged_titles[i])\n",
    "    data['clickbait'].append(pre_merged_labels[i])"
   ]
  },
  {
   "cell_type": "code",
   "execution_count": 39,
   "metadata": {},
   "outputs": [],
   "source": [
    "data= pd.DataFrame(data)"
   ]
  },
  {
   "cell_type": "code",
   "execution_count": 40,
   "metadata": {},
   "outputs": [],
   "source": [
    "#to shuffle data\n",
    "data= data.sample(frac=1)"
   ]
  },
  {
   "cell_type": "code",
   "execution_count": 41,
   "metadata": {},
   "outputs": [
    {
     "data": {
      "text/plain": [
       "(numpy.int64, str, numpy.int64, 59173)"
      ]
     },
     "execution_count": 41,
     "metadata": {},
     "output_type": "execute_result"
    }
   ],
   "source": [
    "type(data['id'][0]), type(data['titles'][0]), type(data['clickbait'][0]), len(data['titles'])"
   ]
  },
  {
   "cell_type": "code",
   "execution_count": 42,
   "metadata": {},
   "outputs": [],
   "source": [
    "data=data.dropna().reset_index()"
   ]
  },
  {
   "cell_type": "code",
   "execution_count": 43,
   "metadata": {},
   "outputs": [],
   "source": [
    "data.to_csv('clickBait_Data.csv',index=False)"
   ]
  },
  {
   "cell_type": "code",
   "execution_count": 44,
   "metadata": {},
   "outputs": [
    {
     "data": {
      "text/html": [
       "<div>\n",
       "<style scoped>\n",
       "    .dataframe tbody tr th:only-of-type {\n",
       "        vertical-align: middle;\n",
       "    }\n",
       "\n",
       "    .dataframe tbody tr th {\n",
       "        vertical-align: top;\n",
       "    }\n",
       "\n",
       "    .dataframe thead th {\n",
       "        text-align: right;\n",
       "    }\n",
       "</style>\n",
       "<table border=\"1\" class=\"dataframe\">\n",
       "  <thead>\n",
       "    <tr style=\"text-align: right;\">\n",
       "      <th></th>\n",
       "      <th>index</th>\n",
       "      <th>id</th>\n",
       "      <th>titles</th>\n",
       "      <th>clickbait</th>\n",
       "    </tr>\n",
       "  </thead>\n",
       "  <tbody>\n",
       "    <tr>\n",
       "      <th>0</th>\n",
       "      <td>27375</td>\n",
       "      <td>27376</td>\n",
       "      <td>Dolphins held in captivity escape from Japanes...</td>\n",
       "      <td>0</td>\n",
       "    </tr>\n",
       "    <tr>\n",
       "      <th>1</th>\n",
       "      <td>38706</td>\n",
       "      <td>38707</td>\n",
       "      <td>See Me Now: the show exposing the everyday liv...</td>\n",
       "      <td>0</td>\n",
       "    </tr>\n",
       "    <tr>\n",
       "      <th>2</th>\n",
       "      <td>2071</td>\n",
       "      <td>2072</td>\n",
       "      <td>The 17 Most Mind-Blowing Maps They Never Taug...</td>\n",
       "      <td>1</td>\n",
       "    </tr>\n",
       "    <tr>\n",
       "      <th>3</th>\n",
       "      <td>11962</td>\n",
       "      <td>11963</td>\n",
       "      <td>White House refusal to release Trump tax retur...</td>\n",
       "      <td>0</td>\n",
       "    </tr>\n",
       "    <tr>\n",
       "      <th>4</th>\n",
       "      <td>13521</td>\n",
       "      <td>13522</td>\n",
       "      <td>Heroism aboard the sinking Clytoneus | Letters</td>\n",
       "      <td>0</td>\n",
       "    </tr>\n",
       "    <tr>\n",
       "      <th>...</th>\n",
       "      <td>...</td>\n",
       "      <td>...</td>\n",
       "      <td>...</td>\n",
       "      <td>...</td>\n",
       "    </tr>\n",
       "    <tr>\n",
       "      <th>59167</th>\n",
       "      <td>44583</td>\n",
       "      <td>44584</td>\n",
       "      <td>Vladimir Putin gets it : You pay them, you own...</td>\n",
       "      <td>0</td>\n",
       "    </tr>\n",
       "    <tr>\n",
       "      <th>59168</th>\n",
       "      <td>51320</td>\n",
       "      <td>51321</td>\n",
       "      <td>Look What This Artists Can Do Just By Making H...</td>\n",
       "      <td>1</td>\n",
       "    </tr>\n",
       "    <tr>\n",
       "      <th>59169</th>\n",
       "      <td>4537</td>\n",
       "      <td>4538</td>\n",
       "      <td>Find the Couple Who Weren't in Sydney</td>\n",
       "      <td>0</td>\n",
       "    </tr>\n",
       "    <tr>\n",
       "      <th>59170</th>\n",
       "      <td>22746</td>\n",
       "      <td>22747</td>\n",
       "      <td>Incarcerated Vets Finding Healing Through Shar...</td>\n",
       "      <td>1</td>\n",
       "    </tr>\n",
       "    <tr>\n",
       "      <th>59171</th>\n",
       "      <td>58963</td>\n",
       "      <td>58964</td>\n",
       "      <td>Donald Trump exposes The Illuminati MUST SEE!!...</td>\n",
       "      <td>1</td>\n",
       "    </tr>\n",
       "  </tbody>\n",
       "</table>\n",
       "<p>59172 rows × 4 columns</p>\n",
       "</div>"
      ],
      "text/plain": [
       "       index     id                                             titles  \\\n",
       "0      27375  27376  Dolphins held in captivity escape from Japanes...   \n",
       "1      38706  38707  See Me Now: the show exposing the everyday liv...   \n",
       "2       2071   2072   The 17 Most Mind-Blowing Maps They Never Taug...   \n",
       "3      11962  11963  White House refusal to release Trump tax retur...   \n",
       "4      13521  13522     Heroism aboard the sinking Clytoneus | Letters   \n",
       "...      ...    ...                                                ...   \n",
       "59167  44583  44584  Vladimir Putin gets it : You pay them, you own...   \n",
       "59168  51320  51321  Look What This Artists Can Do Just By Making H...   \n",
       "59169   4537   4538              Find the Couple Who Weren't in Sydney   \n",
       "59170  22746  22747  Incarcerated Vets Finding Healing Through Shar...   \n",
       "59171  58963  58964  Donald Trump exposes The Illuminati MUST SEE!!...   \n",
       "\n",
       "       clickbait  \n",
       "0              0  \n",
       "1              0  \n",
       "2              1  \n",
       "3              0  \n",
       "4              0  \n",
       "...          ...  \n",
       "59167          0  \n",
       "59168          1  \n",
       "59169          0  \n",
       "59170          1  \n",
       "59171          1  \n",
       "\n",
       "[59172 rows x 4 columns]"
      ]
     },
     "execution_count": 44,
     "metadata": {},
     "output_type": "execute_result"
    }
   ],
   "source": [
    "pd.read_csv('clickBait_Data.csv')"
   ]
  },
  {
   "cell_type": "code",
   "execution_count": null,
   "metadata": {},
   "outputs": [],
   "source": []
  }
 ],
 "metadata": {
  "kernelspec": {
   "display_name": "Python 3 (ipykernel)",
   "language": "python",
   "name": "python3"
  },
  "language_info": {
   "codemirror_mode": {
    "name": "ipython",
    "version": 3
   },
   "file_extension": ".py",
   "mimetype": "text/x-python",
   "name": "python",
   "nbconvert_exporter": "python",
   "pygments_lexer": "ipython3",
   "version": "3.10.13"
  }
 },
 "nbformat": 4,
 "nbformat_minor": 4
}
